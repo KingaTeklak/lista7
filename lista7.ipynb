{
  "nbformat": 4,
  "nbformat_minor": 0,
  "metadata": {
    "colab": {
      "name": "lista7.ipynb",
      "provenance": [],
      "authorship_tag": "ABX9TyMw2gS21AuAhWKA1LnnKnfS",
      "include_colab_link": true
    },
    "kernelspec": {
      "name": "python3",
      "display_name": "Python 3"
    }
  },
  "cells": [
    {
      "cell_type": "markdown",
      "metadata": {
        "id": "view-in-github",
        "colab_type": "text"
      },
      "source": [
        "<a href=\"https://colab.research.google.com/github/KingaTeklak/lista7/blob/main/lista7.ipynb\" target=\"_parent\"><img src=\"https://colab.research.google.com/assets/colab-badge.svg\" alt=\"Open In Colab\"/></a>"
      ]
    },
    {
      "cell_type": "code",
      "metadata": {
        "id": "KsJVVNGr8bu7"
      },
      "source": [
        "class Rocket:\r\n",
        "  def __init__(self,x=0,y=0):\r\n",
        "    self.x = 0\r\n",
        "    self.y = 0\r\n",
        "\r\n",
        "  def move(self,x,y):\r\n",
        "    \r\n"
      ],
      "execution_count": null,
      "outputs": []
    }
  ]
}